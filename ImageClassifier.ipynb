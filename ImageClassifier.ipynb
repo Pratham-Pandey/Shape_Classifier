{
 "cells": [
  {
   "cell_type": "code",
   "execution_count": 1,
   "id": "a3d6fca7",
   "metadata": {},
   "outputs": [],
   "source": [
    "# Importing Necessary Libraries\n",
    "import tensorflow as tf\n",
    "from tensorflow.keras import models, layers \n",
    "import matplotlib.pyplot as plt\n",
    "import numpy as np\n",
    "import cv2"
   ]
  },
  {
   "cell_type": "code",
   "execution_count": 2,
   "id": "60614d4f",
   "metadata": {},
   "outputs": [],
   "source": [
    "# Initializing Variables\n",
    "iSize = 64\n",
    "batch = 100\n",
    "imgLayer = 3\n",
    "train_directory = 'ToyDataset/toy_train/toy_train'\n",
    "validate_directory = 'ToyDataset/toy_val/toy_val'"
   ]
  },
  {
   "cell_type": "markdown",
   "id": "11a56d97",
   "metadata": {},
   "source": [
    "Train//Test Data"
   ]
  },
  {
   "cell_type": "code",
   "execution_count": 3,
   "id": "b3043584",
   "metadata": {},
   "outputs": [
    {
     "name": "stdout",
     "output_type": "stream",
     "text": [
      "Found 1000 files belonging to 2 classes.\n"
     ]
    }
   ],
   "source": [
    "dataset = tf.keras.preprocessing.image_dataset_from_directory(train_directory, shuffle = True, image_size= (iSize, iSize), batch_size = batch)"
   ]
  },
  {
   "cell_type": "code",
   "execution_count": 4,
   "id": "075dfead",
   "metadata": {},
   "outputs": [
    {
     "data": {
      "text/plain": [
       "10"
      ]
     },
     "execution_count": 4,
     "metadata": {},
     "output_type": "execute_result"
    }
   ],
   "source": [
    "len(dataset)"
   ]
  },
  {
   "cell_type": "markdown",
   "id": "1ec49241",
   "metadata": {},
   "source": [
    "Validation Data"
   ]
  },
  {
   "cell_type": "code",
   "execution_count": 5,
   "id": "cb033aca",
   "metadata": {},
   "outputs": [
    {
     "name": "stdout",
     "output_type": "stream",
     "text": [
      "Found 200 files belonging to 2 classes.\n"
     ]
    }
   ],
   "source": [
    "validate = tf.keras.preprocessing.image_dataset_from_directory(validate_directory, shuffle = True, image_size= (iSize, iSize), batch_size = batch)"
   ]
  },
  {
   "cell_type": "code",
   "execution_count": 6,
   "id": "4df13129",
   "metadata": {},
   "outputs": [
    {
     "data": {
      "text/plain": [
       "2"
      ]
     },
     "execution_count": 6,
     "metadata": {},
     "output_type": "execute_result"
    }
   ],
   "source": [
    "len(validate)"
   ]
  },
  {
   "cell_type": "code",
   "execution_count": 7,
   "id": "78c1c853",
   "metadata": {},
   "outputs": [],
   "source": [
    "# Available Classes\n",
    "categories = dataset.class_names"
   ]
  },
  {
   "cell_type": "markdown",
   "id": "3d1d44e9",
   "metadata": {},
   "source": [
    "Train Test Dataset Generator"
   ]
  },
  {
   "cell_type": "code",
   "execution_count": 8,
   "id": "5dcec5bc",
   "metadata": {},
   "outputs": [],
   "source": [
    "def train_test_generator(data, train_split = 0.9, test_split = 0.1, shuffle=True, shuffle_size=10000):\n",
    "    if shuffle:\n",
    "        data=data.shuffle(shuffle_size, seed=12)\n",
    "    \n",
    "    data_len = len(data)\n",
    "    \n",
    "    train_size = int(data_len * train_split) \n",
    "    test_size = int(data_len * test_split)\n",
    "    \n",
    "    train_data = data.take(train_size)\n",
    "    test_data = data.skip(train_size).take(test_size)\n",
    "        \n",
    "    return train_data, test_data"
   ]
  },
  {
   "cell_type": "code",
   "execution_count": 9,
   "id": "c35659e2",
   "metadata": {},
   "outputs": [],
   "source": [
    "# Creating Seprate Train Test Dataset\n",
    "train, test = train_test_generator(dataset)"
   ]
  },
  {
   "cell_type": "code",
   "execution_count": 10,
   "id": "05413e90",
   "metadata": {},
   "outputs": [
    {
     "name": "stdout",
     "output_type": "stream",
     "text": [
      "9 1\n"
     ]
    }
   ],
   "source": [
    "print(len(train),len(test))"
   ]
  },
  {
   "cell_type": "code",
   "execution_count": 11,
   "id": "b54ceec9",
   "metadata": {},
   "outputs": [],
   "source": [
    "# Using prefetch() and cache() for performance\n",
    "train = train.cache().shuffle(1000).prefetch(buffer_size=tf.data.AUTOTUNE)\n",
    "validate = validate.cache().shuffle(1000).prefetch(buffer_size=tf.data.AUTOTUNE)\n",
    "test = test.cache().shuffle(1000).prefetch(buffer_size=tf.data.AUTOTUNE)"
   ]
  },
  {
   "cell_type": "code",
   "execution_count": 12,
   "id": "a1117dd3",
   "metadata": {},
   "outputs": [],
   "source": [
    "# Resizing Data Pipeline\n",
    "resize_and_rescale = tf.keras.Sequential([\n",
    "    layers.experimental.preprocessing.Resizing(iSize,iSize),\n",
    "    layers.experimental.preprocessing.Rescaling(1.0/255)\n",
    "]) "
   ]
  },
  {
   "cell_type": "code",
   "execution_count": 13,
   "id": "6761f59b",
   "metadata": {},
   "outputs": [],
   "source": [
    "input_shape=(batch, iSize, iSize, imgLayer)\n",
    "n_classes = len(dataset.class_names)\n",
    "model = models.Sequential([\n",
    "    resize_and_rescale,\n",
    "    layers.Conv2D(32, (3,3), activation = 'relu', input_shape=input_shape),\n",
    "    layers.MaxPooling2D((2,2)),\n",
    "    layers.Conv2D(64, (3,3), activation='relu'),\n",
    "    layers.MaxPooling2D((2,2)),\n",
    "    \n",
    "    layers.Flatten(),\n",
    "    layers.Dense(64, activation = 'relu'),\n",
    "    layers.Dense(n_classes, activation = 'sigmoid'),\n",
    "])\n",
    "model.build(input_shape=input_shape)"
   ]
  },
  {
   "cell_type": "code",
   "execution_count": 14,
   "id": "52745bd0",
   "metadata": {},
   "outputs": [
    {
     "name": "stdout",
     "output_type": "stream",
     "text": [
      "Model: \"sequential_1\"\n",
      "_________________________________________________________________\n",
      " Layer (type)                Output Shape              Param #   \n",
      "=================================================================\n",
      " sequential (Sequential)     (100, 64, 64, 3)          0         \n",
      "                                                                 \n",
      " conv2d (Conv2D)             (100, 62, 62, 32)         896       \n",
      "                                                                 \n",
      " max_pooling2d (MaxPooling2D  (100, 31, 31, 32)        0         \n",
      " )                                                               \n",
      "                                                                 \n",
      " conv2d_1 (Conv2D)           (100, 29, 29, 64)         18496     \n",
      "                                                                 \n",
      " max_pooling2d_1 (MaxPooling  (100, 14, 14, 64)        0         \n",
      " 2D)                                                             \n",
      "                                                                 \n",
      " flatten (Flatten)           (100, 12544)              0         \n",
      "                                                                 \n",
      " dense (Dense)               (100, 64)                 802880    \n",
      "                                                                 \n",
      " dense_1 (Dense)             (100, 2)                  130       \n",
      "                                                                 \n",
      "=================================================================\n",
      "Total params: 822,402\n",
      "Trainable params: 822,402\n",
      "Non-trainable params: 0\n",
      "_________________________________________________________________\n"
     ]
    }
   ],
   "source": [
    "model.summary()"
   ]
  },
  {
   "cell_type": "code",
   "execution_count": 15,
   "id": "f45451e4",
   "metadata": {},
   "outputs": [
    {
     "name": "stdout",
     "output_type": "stream",
     "text": [
      "(100, 64, 64, 3)\n"
     ]
    }
   ],
   "source": [
    "print(input_shape)"
   ]
  },
  {
   "cell_type": "markdown",
   "id": "56cc2abe",
   "metadata": {},
   "source": [
    "Compiling the Model"
   ]
  },
  {
   "cell_type": "code",
   "execution_count": 16,
   "id": "bef15594",
   "metadata": {},
   "outputs": [],
   "source": [
    "model.compile(\n",
    "    optimizer='adam',\n",
    "    loss=tf.keras.losses.SparseCategoricalCrossentropy(from_logits=False),\n",
    "    metrics=['accuracy']\n",
    ")"
   ]
  },
  {
   "cell_type": "code",
   "execution_count": 17,
   "id": "74aee834",
   "metadata": {},
   "outputs": [
    {
     "name": "stdout",
     "output_type": "stream",
     "text": [
      "Epoch 1/15\n",
      "9/9 [==============================] - 24s 854ms/step - loss: 0.9882 - accuracy: 0.5433 - val_loss: 0.6307 - val_accuracy: 0.5550\n",
      "Epoch 2/15\n",
      "9/9 [==============================] - 4s 440ms/step - loss: 0.5355 - accuracy: 0.7244 - val_loss: 0.4457 - val_accuracy: 0.8300\n",
      "Epoch 3/15\n",
      "9/9 [==============================] - 4s 486ms/step - loss: 0.4034 - accuracy: 0.8167 - val_loss: 0.3763 - val_accuracy: 0.8050\n",
      "Epoch 4/15\n",
      "9/9 [==============================] - 4s 436ms/step - loss: 0.3560 - accuracy: 0.8389 - val_loss: 0.3319 - val_accuracy: 0.8550\n",
      "Epoch 5/15\n",
      "9/9 [==============================] - 4s 427ms/step - loss: 0.3246 - accuracy: 0.8522 - val_loss: 0.3413 - val_accuracy: 0.8350\n",
      "Epoch 6/15\n",
      "9/9 [==============================] - 4s 430ms/step - loss: 0.3175 - accuracy: 0.8533 - val_loss: 0.3357 - val_accuracy: 0.8550\n",
      "Epoch 7/15\n",
      "9/9 [==============================] - 4s 468ms/step - loss: 0.2997 - accuracy: 0.8656 - val_loss: 0.3083 - val_accuracy: 0.8600\n",
      "Epoch 8/15\n",
      "9/9 [==============================] - 4s 425ms/step - loss: 0.2682 - accuracy: 0.8756 - val_loss: 0.2936 - val_accuracy: 0.8700\n",
      "Epoch 9/15\n",
      "9/9 [==============================] - 4s 427ms/step - loss: 0.2314 - accuracy: 0.9100 - val_loss: 0.3050 - val_accuracy: 0.8500\n",
      "Epoch 10/15\n",
      "9/9 [==============================] - 4s 432ms/step - loss: 0.2180 - accuracy: 0.9078 - val_loss: 0.2508 - val_accuracy: 0.9200\n",
      "Epoch 11/15\n",
      "9/9 [==============================] - 4s 485ms/step - loss: 0.1802 - accuracy: 0.9333 - val_loss: 0.2363 - val_accuracy: 0.8950\n",
      "Epoch 12/15\n",
      "9/9 [==============================] - 4s 439ms/step - loss: 0.1402 - accuracy: 0.9678 - val_loss: 0.1966 - val_accuracy: 0.9100\n",
      "Epoch 13/15\n",
      "9/9 [==============================] - 4s 433ms/step - loss: 0.0972 - accuracy: 0.9800 - val_loss: 0.1332 - val_accuracy: 0.9600\n",
      "Epoch 14/15\n",
      "9/9 [==============================] - 4s 420ms/step - loss: 0.0577 - accuracy: 0.9956 - val_loss: 0.0974 - val_accuracy: 0.9650\n",
      "Epoch 15/15\n",
      "9/9 [==============================] - 4s 478ms/step - loss: 0.0345 - accuracy: 0.9944 - val_loss: 0.0613 - val_accuracy: 0.9800\n"
     ]
    }
   ],
   "source": [
    "# Running this Block won't take more than 2 Minutes.\n",
    "history = model.fit(train,\n",
    "                   epochs=15,\n",
    "                   batch_size = batch,\n",
    "                   verbose=1,\n",
    "                   validation_data = validate)"
   ]
  },
  {
   "cell_type": "code",
   "execution_count": 18,
   "id": "8823858a",
   "metadata": {},
   "outputs": [
    {
     "name": "stdout",
     "output_type": "stream",
     "text": [
      "1/1 [==============================] - 1s 560ms/step - loss: 0.0268 - accuracy: 1.0000\n"
     ]
    }
   ],
   "source": [
    "output = model.evaluate(test)"
   ]
  },
  {
   "cell_type": "markdown",
   "id": "9eb43351",
   "metadata": {},
   "source": [
    "Saving the Trained Model"
   ]
  },
  {
   "cell_type": "code",
   "execution_count": 19,
   "id": "c83db7dc",
   "metadata": {},
   "outputs": [],
   "source": [
    "model.save(\"shapeClassifier.h5\")"
   ]
  },
  {
   "cell_type": "code",
   "execution_count": 20,
   "id": "e36a726c",
   "metadata": {},
   "outputs": [
    {
     "name": "stdout",
     "output_type": "stream",
     "text": [
      "Predicting Image Category\n",
      "Actual Label: circle\n",
      "4/4 [==============================] - 0s 41ms/step\n",
      "Predicted Label: circle\n",
      "<class 'numpy.ndarray'>\n",
      "<class 'tensorflow.python.framework.ops.EagerTensor'>\n"
     ]
    },
    {
     "data": {
      "image/png": "[encoded data removed]",
      "text/plain": [
       "<Figure size 432x288 with 1 Axes>"
      ]
     },
     "metadata": {
      "needs_background": "light"
     },
     "output_type": "display_data"
    }
   ],
   "source": [
    "# Predicting for a Single Image\n",
    "for image, label in test.take(1):\n",
    "    \n",
    "    img = image[0].numpy().astype('uint8')\n",
    "    lab = label[0].numpy()\n",
    "    \n",
    "    print(\"Predicting Image Category\")\n",
    "    plt.imshow(img)\n",
    "    print(\"Actual Label:\", categories[lab])\n",
    "    \n",
    "    pred_cat = model.predict(image)\n",
    "    print(\"Predicted Label:\", categories[np.argmax(pred_cat[0])])\n",
    "    print(type(pred_cat))\n",
    "    print(type(image))"
   ]
  },
  {
   "cell_type": "markdown",
   "id": "6fb582b3",
   "metadata": {},
   "source": [
    "Predictor Function"
   ]
  },
  {
   "cell_type": "code",
   "execution_count": 31,
   "id": "77f34fb6",
   "metadata": {},
   "outputs": [],
   "source": [
    "def predict_cv2(path):\n",
    "    ig = cv2.imread(path)\n",
    "    y = np.expand_dims(ig, axis = 0)\n",
    "    x = tf.convert_to_tensor(y)\n",
    "    plt.imshow(ig)  \n",
    "    output = model.predict(x)\n",
    "    print(categories[np.argmax(output[0])])\n",
    "    #print(categories[np.argmax(output[0])])\n",
    "    #print(\"Predicted Label:\", categories[np.argmax(pred_cat[0])])"
   ]
  },
  {
   "cell_type": "code",
   "execution_count": 34,
   "id": "8309cc7a",
   "metadata": {},
   "outputs": [
    {
     "name": "stdout",
     "output_type": "stream",
     "text": [
      "1/1 [==============================] - 0s 28ms/step\n",
      "circle\n"
     ]
    },
    {
     "data": {
      "image/png": "[encoded data removed]",
      "text/plain": [
       "<Figure size 432x288 with 1 Axes>"
      ]
     },
     "metadata": {
      "needs_background": "light"
     },
     "output_type": "display_data"
    }
   ],
   "source": [
    "path = 'ToyDataset/toy_val/toy_val/circle/126.jpg' # Enter the path of the Image.\n",
    "predict_cv2(path)"
   ]
  },
  {
   "cell_type": "code",
   "execution_count": null,
   "id": "e0c55a89",
   "metadata": {},
   "outputs": [],
   "source": []
  }
 ],
 "metadata": {
  "kernelspec": {
   "display_name": "Python 3",
   "language": "python",
   "name": "python3"
  },
  "language_info": {
   "codemirror_mode": {
    "name": "ipython",
    "version": 3
   },
   "file_extension": ".py",
   "mimetype": "text/x-python",
   "name": "python",
   "nbconvert_exporter": "python",
   "pygments_lexer": "ipython3",
   "version": "3.8.8"
  }
 },
 "nbformat": 4,
 "nbformat_minor": 5
}
